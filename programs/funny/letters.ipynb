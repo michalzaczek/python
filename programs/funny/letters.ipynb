{
 "cells": [
  {
   "cell_type": "code",
   "execution_count": null,
   "metadata": {},
   "outputs": [],
   "source": [
    "#script shows the inputted text in different way\n",
    "\n",
    "dic = {'a':'0010001010111111000110001',\n",
    "       'b':'1111010001111101000111110',\n",
    "       'c':'0111110000100001000001111',\n",
    "       'd':'1111010001100011000111110',\n",
    "       'e':'1111110000111111000011111',\n",
    "       'f':'1111110000111101000010000',\n",
    "       'g':'0111010000100111000101110',\n",
    "       'h':'1000110001111111000110001',\n",
    "       'i':'0010000100001000010000100',\n",
    "       'j':'1111100001000010000111110',\n",
    "       'k':'1000110010111001001010001',\n",
    "       'l':'1000010000100001000011111',\n",
    "       'm':'1000111011101011000110001',\n",
    "       'n':'1000111001101011001110001',\n",
    "       'o':'0111010001100011000101110',\n",
    "       'p':'1111010001111101000010000',\n",
    "       'q':'0110010010101101001001101',\n",
    "       'r':'1111010001111101001010001',\n",
    "       's':'0111110000011100000111110',\n",
    "       't':'1111100100001000010000100',\n",
    "       'u':'1000110001100011000101110',\n",
    "       'v':'1000110001100010101000100',\n",
    "       'w':'1000110001101011101110001',\n",
    "       'x':'1000101010001000101010001',\n",
    "       'y':'1000101010001000010000100',\n",
    "       'z':'1111100010001000100011111'}\n",
    "\n",
    "def big(letter):\n",
    "    ins = list(dic[letter])\n",
    "    i = 0\n",
    "    while i < len(ins):\n",
    "        if ins[i]==\"1\":\n",
    "            ins[i]=\"*\"\n",
    "        elif ins[i]==\"0\":\n",
    "            ins[i]=\" \" \n",
    "        if i%6==5:\n",
    "            ins.insert(i, \"\\n\")\n",
    "        i += 1\n",
    "    ins.append(\"\\n\")\n",
    "    print(\"\".join(ins))\n",
    "\n",
    "for letter in input(\"Enter some text (eg. your name):\").lower():\n",
    "    big(letter)"
   ]
  }
 ],
 "metadata": {
  "kernelspec": {
   "display_name": "Python 3",
   "language": "python",
   "name": "python3"
  },
  "language_info": {
   "codemirror_mode": {
    "name": "ipython",
    "version": 3
   },
   "file_extension": ".py",
   "mimetype": "text/x-python",
   "name": "python",
   "nbconvert_exporter": "python",
   "pygments_lexer": "ipython3",
   "version": "3.7.3"
  }
 },
 "nbformat": 4,
 "nbformat_minor": 2
}

{
 "cells": [
  {
   "cell_type": "code",
   "execution_count": null,
   "metadata": {},
   "outputs": [],
   "source": [
    "# webscrap from online shop and save the name, producer, price to csv\n",
    "\n",
    "from urllib.request import urlopen as ureq\n",
    "from bs4 import BeautifulSoup as bs\n",
    "\n",
    "filename = \"products.csv\"\n",
    "f = open(filename, \"w\")\n",
    "headers = \"nazwa; producent; cena\\n\"\n",
    "f.write(headers)\n",
    "\n",
    "myurl = 'https://www.sklepxyz.pl/pl/c/Zdrowa-zywnosc/175'\n",
    "\n",
    "for strona in range (1, 94):\n",
    "    if strona == 1:\n",
    "        uclient = ureq(myurl)\n",
    "    else:\n",
    "        uclient = ureq(myurl + \"/\" + str(strona))\n",
    "    phtml = uclient.read()\n",
    "    uclient.close()\n",
    "\n",
    "    psoup = bs(phtml, \"html.parser\")\n",
    "    produkty = psoup.findAll(\"div\", {\"class\":\"product-inner-wrap\"})\n",
    "\n",
    "    for i in produkty:\n",
    "        nazwaspan = i.findAll(\"span\",{\"class\":\"productname\"})\n",
    "        nazwa = nazwaspan[0].text\n",
    "    \n",
    "        producentdiv = i.findAll(\"div\",{\"class\":\"f-row manufacturer\"})\n",
    "        producent = producentdiv[0].a[\"title\"]\n",
    "    \n",
    "        cenadiv = i.findAll(\"div\",{\"class\":\"price f-row\"})\n",
    "        cena = cenadiv[0].em.text\n",
    "        print(nazwa, \"/\", producent, \":\", cena)\n",
    "        f.write(nazwa + \";\" + producent + \";\" + cena + \"\\n\")\n",
    "f.close()"
   ]
  }
 ],
 "metadata": {
  "kernelspec": {
   "display_name": "Python 3",
   "language": "python",
   "name": "python3"
  },
  "language_info": {
   "codemirror_mode": {
    "name": "ipython",
    "version": 3
   },
   "file_extension": ".py",
   "mimetype": "text/x-python",
   "name": "python",
   "nbconvert_exporter": "python",
   "pygments_lexer": "ipython3",
   "version": "3.7.3"
  }
 },
 "nbformat": 4,
 "nbformat_minor": 2
}

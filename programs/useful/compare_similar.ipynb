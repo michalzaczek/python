{
 "cells": [
  {
   "cell_type": "code",
   "execution_count": null,
   "metadata": {},
   "outputs": [],
   "source": [
    "# comparing 2 csv's row by row and saving similar names to csv\n",
    "\n",
    "import difflib as dl\n",
    "import numpy as np\n",
    "\n",
    "path=\"\\\\..\\\\\"\n",
    "filename1 = \".. .csv\"\n",
    "filename2 = \".. .csv\"\n",
    "outupt_file = '.. .csv'\n",
    "\n",
    "file1 = np.genfromtxt(path + filename1, delimiter=\";\", names=True, dtype=None)\n",
    "file2 = np.genfromtxt(path + filename2, delimiter=\";\", names=True, dtype=None)\n",
    "\n",
    "csv = open(outupt_file, \"w\")\n",
    "headers = \"nazwa; hurt; detal\\n\"\n",
    "csv.write(headers)\n",
    "\n",
    "for i in file1:\n",
    "    text1 = i[0].lower()\n",
    "    for j in file2:\n",
    "        text2 = j[0].lower()\n",
    "        seq = dl.SequenceMatcher(isjunk=None, a=text1, b=text2)\n",
    "        diff = seq.ratio()\n",
    "        # ratio of similarity 0-1\n",
    "        if diff >= 0.9: \n",
    "            print(\"1:\", text1, \":\", i[2])\n",
    "            print(\"2:\", text2, \":\", j[2])\n",
    "            print(\"-\"*60)\n",
    "            csv.write(text1 + \";\" + i[2] + \";\" + j[2] + \"\\n\")\n",
    "csv.close()"
   ]
  },
  {
   "cell_type": "code",
   "execution_count": null,
   "metadata": {},
   "outputs": [],
   "source": []
  }
 ],
 "metadata": {
  "kernelspec": {
   "display_name": "Python 3",
   "language": "python",
   "name": "python3"
  },
  "language_info": {
   "codemirror_mode": {
    "name": "ipython",
    "version": 3
   },
   "file_extension": ".py",
   "mimetype": "text/x-python",
   "name": "python",
   "nbconvert_exporter": "python",
   "pygments_lexer": "ipython3",
   "version": "3.7.3"
  }
 },
 "nbformat": 4,
 "nbformat_minor": 2
}

{
 "cells": [
  {
   "cell_type": "code",
   "execution_count": null,
   "metadata": {},
   "outputs": [],
   "source": [
    "'''\n",
    "This program counts number of phrases and displays them alphabetically with number of occurance \n",
    "Just copy your text below\n",
    "'''\n",
    "text = \"Had I the heavens embroidered cloths, Enwrought with golden and silver light, The blue and the dim and the dark cloths Of night and light and the half light, I would spread the cloths under your feet: But I, being poor, have only my dreams; I have spread my dreams under your feet; Tread softly because you tread on my dreams.\"\n",
    "#W.B. Yeats\n",
    "\n",
    "#Define function of text processing\n",
    "def process(text):\n",
    "    #remove punctuation marks\n",
    "    for i in \",.:;/-+=&\":\n",
    "        text = text.replace(i, \" \")\n",
    "\n",
    "    text = text.lower()\n",
    "    text = text.split()\n",
    "    text.sort()\n",
    "    \n",
    "    return text\n",
    "\n",
    "#Function that counts the number of occur    \n",
    "def count_phrases(text):\n",
    "    i = 0\n",
    "    while i < len(text):\n",
    "        count = text.count(text[i])\n",
    "        print(text[i], \":\", count)\n",
    "        if (count > 1):\n",
    "            while (count != 1):\n",
    "                text.remove(text[i])\n",
    "                count -= 1\n",
    "        i += 1\n",
    "\n",
    "processed = process(text)\n",
    "\n",
    "print(\"This text cointains\", len(processed), \"following words:\")        \n",
    "               \n",
    "count_phrases(processed)"
   ]
  },
  {
   "cell_type": "code",
   "execution_count": null,
   "metadata": {},
   "outputs": [],
   "source": []
  }
 ],
 "metadata": {
  "kernelspec": {
   "display_name": "Python 3",
   "language": "python",
   "name": "python3"
  },
  "language_info": {
   "codemirror_mode": {
    "name": "ipython",
    "version": 3
   },
   "file_extension": ".py",
   "mimetype": "text/x-python",
   "name": "python",
   "nbconvert_exporter": "python",
   "pygments_lexer": "ipython3",
   "version": "3.7.3"
  }
 },
 "nbformat": 4,
 "nbformat_minor": 2
}
